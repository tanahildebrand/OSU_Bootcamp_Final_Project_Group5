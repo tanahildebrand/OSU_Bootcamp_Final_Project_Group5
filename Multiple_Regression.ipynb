{
 "cells": [
  {
   "cell_type": "code",
   "execution_count": 1,
   "id": "224b8f72",
   "metadata": {},
   "outputs": [],
   "source": [
    "import pandas as pd\n",
    "from pathlib import Path\n",
    "import matplotlib.pyplot as plt\n",
    "from sklearn.linear_model import LinearRegression\n",
    "from sklearn import linear_model\n",
    "import numpy as np"
   ]
  },
  {
   "cell_type": "code",
   "execution_count": 2,
   "id": "ebea8315",
   "metadata": {},
   "outputs": [
    {
     "data": {
      "text/html": [
       "<div>\n",
       "<style scoped>\n",
       "    .dataframe tbody tr th:only-of-type {\n",
       "        vertical-align: middle;\n",
       "    }\n",
       "\n",
       "    .dataframe tbody tr th {\n",
       "        vertical-align: top;\n",
       "    }\n",
       "\n",
       "    .dataframe thead th {\n",
       "        text-align: right;\n",
       "    }\n",
       "</style>\n",
       "<table border=\"1\" class=\"dataframe\">\n",
       "  <thead>\n",
       "    <tr style=\"text-align: right;\">\n",
       "      <th></th>\n",
       "      <th>country</th>\n",
       "      <th>happiness_score</th>\n",
       "      <th>Alcoholic_Beverages</th>\n",
       "      <th>Animal_Products</th>\n",
       "      <th>Animal_fats</th>\n",
       "      <th>Cereal_Excluding_Beer</th>\n",
       "      <th>Eggs</th>\n",
       "      <th>Fish_Seafood</th>\n",
       "      <th>Fruits_Excluding_Wine</th>\n",
       "      <th>Meat</th>\n",
       "      <th>...</th>\n",
       "      <th>Starchy_Roots</th>\n",
       "      <th>Stimulants</th>\n",
       "      <th>Sugar_Crops</th>\n",
       "      <th>Sugar_Sweeteners</th>\n",
       "      <th>Treenuts</th>\n",
       "      <th>Vegetal_Products</th>\n",
       "      <th>Vegetable_Oils</th>\n",
       "      <th>Vegetables</th>\n",
       "      <th>Obesity</th>\n",
       "      <th>Population</th>\n",
       "    </tr>\n",
       "  </thead>\n",
       "  <tbody>\n",
       "    <tr>\n",
       "      <th>0</th>\n",
       "      <td>Afghanistan</td>\n",
       "      <td>2.523</td>\n",
       "      <td>0.0000</td>\n",
       "      <td>4.7774</td>\n",
       "      <td>0.8504</td>\n",
       "      <td>37.1186</td>\n",
       "      <td>0.1501</td>\n",
       "      <td>0.0000</td>\n",
       "      <td>1.4757</td>\n",
       "      <td>1.2006</td>\n",
       "      <td>...</td>\n",
       "      <td>0.3252</td>\n",
       "      <td>0.0750</td>\n",
       "      <td>0.0</td>\n",
       "      <td>2.2261</td>\n",
       "      <td>0.1251</td>\n",
       "      <td>45.2476</td>\n",
       "      <td>2.3012</td>\n",
       "      <td>0.7504</td>\n",
       "      <td>4.5</td>\n",
       "      <td>38928000.0</td>\n",
       "    </tr>\n",
       "    <tr>\n",
       "      <th>1</th>\n",
       "      <td>Albania</td>\n",
       "      <td>5.117</td>\n",
       "      <td>0.9120</td>\n",
       "      <td>16.0930</td>\n",
       "      <td>1.0591</td>\n",
       "      <td>16.2107</td>\n",
       "      <td>0.8091</td>\n",
       "      <td>0.1471</td>\n",
       "      <td>3.8982</td>\n",
       "      <td>3.8688</td>\n",
       "      <td>...</td>\n",
       "      <td>1.2651</td>\n",
       "      <td>0.2501</td>\n",
       "      <td>0.0</td>\n",
       "      <td>3.4422</td>\n",
       "      <td>0.3972</td>\n",
       "      <td>33.9070</td>\n",
       "      <td>2.8244</td>\n",
       "      <td>2.7508</td>\n",
       "      <td>22.3</td>\n",
       "      <td>2838000.0</td>\n",
       "    </tr>\n",
       "    <tr>\n",
       "      <th>2</th>\n",
       "      <td>Algeria</td>\n",
       "      <td>4.887</td>\n",
       "      <td>0.0896</td>\n",
       "      <td>6.0326</td>\n",
       "      <td>0.1941</td>\n",
       "      <td>25.0112</td>\n",
       "      <td>0.4181</td>\n",
       "      <td>0.1195</td>\n",
       "      <td>3.1805</td>\n",
       "      <td>1.2543</td>\n",
       "      <td>...</td>\n",
       "      <td>1.9262</td>\n",
       "      <td>0.1493</td>\n",
       "      <td>0.0</td>\n",
       "      <td>3.9869</td>\n",
       "      <td>0.2240</td>\n",
       "      <td>43.9749</td>\n",
       "      <td>5.7638</td>\n",
       "      <td>2.0457</td>\n",
       "      <td>26.6</td>\n",
       "      <td>44357000.0</td>\n",
       "    </tr>\n",
       "    <tr>\n",
       "      <th>3</th>\n",
       "      <td>Argentina</td>\n",
       "      <td>5.929</td>\n",
       "      <td>1.4354</td>\n",
       "      <td>14.9869</td>\n",
       "      <td>1.0650</td>\n",
       "      <td>16.7927</td>\n",
       "      <td>0.8643</td>\n",
       "      <td>0.2006</td>\n",
       "      <td>1.4663</td>\n",
       "      <td>9.4459</td>\n",
       "      <td>...</td>\n",
       "      <td>1.4045</td>\n",
       "      <td>0.2315</td>\n",
       "      <td>0.0</td>\n",
       "      <td>7.0536</td>\n",
       "      <td>0.0463</td>\n",
       "      <td>34.9900</td>\n",
       "      <td>5.5410</td>\n",
       "      <td>0.8643</td>\n",
       "      <td>28.5</td>\n",
       "      <td>45377000.0</td>\n",
       "    </tr>\n",
       "    <tr>\n",
       "      <th>4</th>\n",
       "      <td>Armenia</td>\n",
       "      <td>5.283</td>\n",
       "      <td>0.2274</td>\n",
       "      <td>12.8330</td>\n",
       "      <td>1.7706</td>\n",
       "      <td>19.2658</td>\n",
       "      <td>0.7310</td>\n",
       "      <td>0.1787</td>\n",
       "      <td>2.5341</td>\n",
       "      <td>4.2235</td>\n",
       "      <td>...</td>\n",
       "      <td>1.2508</td>\n",
       "      <td>0.6985</td>\n",
       "      <td>0.0</td>\n",
       "      <td>5.2956</td>\n",
       "      <td>0.3086</td>\n",
       "      <td>37.1670</td>\n",
       "      <td>3.5737</td>\n",
       "      <td>3.2164</td>\n",
       "      <td>20.9</td>\n",
       "      <td>2956000.0</td>\n",
       "    </tr>\n",
       "  </tbody>\n",
       "</table>\n",
       "<p>5 rows × 26 columns</p>\n",
       "</div>"
      ],
      "text/plain": [
       "       country  happiness_score  Alcoholic_Beverages  Animal_Products  \\\n",
       "0  Afghanistan            2.523               0.0000           4.7774   \n",
       "1      Albania            5.117               0.9120          16.0930   \n",
       "2      Algeria            4.887               0.0896           6.0326   \n",
       "3    Argentina            5.929               1.4354          14.9869   \n",
       "4      Armenia            5.283               0.2274          12.8330   \n",
       "\n",
       "   Animal_fats  Cereal_Excluding_Beer    Eggs  Fish_Seafood  \\\n",
       "0       0.8504                37.1186  0.1501        0.0000   \n",
       "1       1.0591                16.2107  0.8091        0.1471   \n",
       "2       0.1941                25.0112  0.4181        0.1195   \n",
       "3       1.0650                16.7927  0.8643        0.2006   \n",
       "4       1.7706                19.2658  0.7310        0.1787   \n",
       "\n",
       "   Fruits_Excluding_Wine    Meat  ...  Starchy_Roots  Stimulants  Sugar_Crops  \\\n",
       "0                 1.4757  1.2006  ...         0.3252      0.0750          0.0   \n",
       "1                 3.8982  3.8688  ...         1.2651      0.2501          0.0   \n",
       "2                 3.1805  1.2543  ...         1.9262      0.1493          0.0   \n",
       "3                 1.4663  9.4459  ...         1.4045      0.2315          0.0   \n",
       "4                 2.5341  4.2235  ...         1.2508      0.6985          0.0   \n",
       "\n",
       "   Sugar_Sweeteners  Treenuts  Vegetal_Products  Vegetable_Oils  Vegetables  \\\n",
       "0            2.2261    0.1251           45.2476          2.3012      0.7504   \n",
       "1            3.4422    0.3972           33.9070          2.8244      2.7508   \n",
       "2            3.9869    0.2240           43.9749          5.7638      2.0457   \n",
       "3            7.0536    0.0463           34.9900          5.5410      0.8643   \n",
       "4            5.2956    0.3086           37.1670          3.5737      3.2164   \n",
       "\n",
       "   Obesity  Population  \n",
       "0      4.5  38928000.0  \n",
       "1     22.3   2838000.0  \n",
       "2     26.6  44357000.0  \n",
       "3     28.5  45377000.0  \n",
       "4     20.9   2956000.0  \n",
       "\n",
       "[5 rows x 26 columns]"
      ]
     },
     "execution_count": 2,
     "metadata": {},
     "output_type": "execute_result"
    }
   ],
   "source": [
    "df = pd.read_csv(Path('../OSU_Bootcamp_Final_Project_Group5/happiness_kcal_by_country.csv'))\n",
    "df.head()"
   ]
  },
  {
   "cell_type": "code",
   "execution_count": 3,
   "id": "0b84b72b",
   "metadata": {},
   "outputs": [],
   "source": [
    "X = df[['Alcoholic_Beverages', 'Animal_fats', 'Animal_Products', 'Cereal_Excluding_Beer', 'Eggs','Meat', 'Milk_Excluding_Butter','Vegetal_Products','Vegetables','Obesity']]\n",
    "#X = df.drop(columns=['happiness_score','country'],axis=1)\n",
    "y = df['happiness_score']"
   ]
  },
  {
   "cell_type": "code",
   "execution_count": 4,
   "id": "7e6d3e2b",
   "metadata": {},
   "outputs": [],
   "source": [
    "from sklearn.model_selection import train_test_split\n",
    "x_train, x_test, y_train, y_test = train_test_split(X, y, test_size = 0.3, random_state = 100)"
   ]
  },
  {
   "cell_type": "code",
   "execution_count": 5,
   "id": "fa6cb4c6",
   "metadata": {},
   "outputs": [
    {
     "data": {
      "text/plain": [
       "LinearRegression()"
      ]
     },
     "execution_count": 5,
     "metadata": {},
     "output_type": "execute_result"
    }
   ],
   "source": [
    "#Fitting the Multiple Linear Regression model\n",
    "mlr = LinearRegression()  \n",
    "mlr.fit(x_train, y_train)"
   ]
  },
  {
   "cell_type": "code",
   "execution_count": 6,
   "id": "6a49c94b",
   "metadata": {},
   "outputs": [
    {
     "name": "stdout",
     "output_type": "stream",
     "text": [
      "Intercept:  80.90243614053414\n",
      "Coefficients:\n"
     ]
    },
    {
     "data": {
      "text/plain": [
       "[('Alcoholic_Beverages', 0.004442844890836922),\n",
       " ('Animal_fats', -0.24854797510099444),\n",
       " ('Animal_Products', -1.1378227594651666),\n",
       " ('Cereal_Excluding_Beer', -0.05392782604852135),\n",
       " ('Eggs', -0.1736051598619158),\n",
       " ('Meat', -0.3193122017474539),\n",
       " ('Milk_Excluding_Butter', -0.33399235440195585),\n",
       " ('Vegetal_Products', -1.5081136777195177),\n",
       " ('Vegetables', 0.043837030892317094),\n",
       " ('Obesity', 0.019168435228640937)]"
      ]
     },
     "execution_count": 6,
     "metadata": {},
     "output_type": "execute_result"
    }
   ],
   "source": [
    "print(\"Intercept: \", mlr.intercept_)\n",
    "print(\"Coefficients:\")\n",
    "list(zip(X, mlr.coef_))"
   ]
  },
  {
   "cell_type": "code",
   "execution_count": 7,
   "id": "e275be58",
   "metadata": {},
   "outputs": [
    {
     "name": "stdout",
     "output_type": "stream",
     "text": [
      "Prediction for test set: [4.46728927 5.68630078 5.0559713  5.34351728 6.65032038 6.21697889\n",
      " 6.20349638 5.41847201 6.66255689 5.40656964 5.7263325  5.82786902\n",
      " 5.69024772 6.19356848 4.65599593 4.75810734 5.88898201 4.29717244\n",
      " 5.00580796 5.05952158 7.52318223 5.1981443  5.77814666 5.24007507\n",
      " 4.03701177 4.79091281 5.0093305  4.80729575 6.7014597  6.59460606\n",
      " 5.24876082 4.59386159 6.1492763  6.3882669  5.39483868 5.99480635\n",
      " 5.91670164 4.27490332 4.97087293 6.09879473 5.7908507  5.47218269]\n"
     ]
    }
   ],
   "source": [
    "#Prediction of test set\n",
    "y_pred_mlr= mlr.predict(x_test)\n",
    "#Predicted values\n",
    "print(\"Prediction for test set: {}\".format(y_pred_mlr))"
   ]
  },
  {
   "cell_type": "code",
   "execution_count": 8,
   "id": "4608df48",
   "metadata": {},
   "outputs": [
    {
     "data": {
      "text/html": [
       "<div>\n",
       "<style scoped>\n",
       "    .dataframe tbody tr th:only-of-type {\n",
       "        vertical-align: middle;\n",
       "    }\n",
       "\n",
       "    .dataframe tbody tr th {\n",
       "        vertical-align: top;\n",
       "    }\n",
       "\n",
       "    .dataframe thead th {\n",
       "        text-align: right;\n",
       "    }\n",
       "</style>\n",
       "<table border=\"1\" class=\"dataframe\">\n",
       "  <thead>\n",
       "    <tr style=\"text-align: right;\">\n",
       "      <th></th>\n",
       "      <th>Actual value</th>\n",
       "      <th>Predicted value</th>\n",
       "    </tr>\n",
       "  </thead>\n",
       "  <tbody>\n",
       "    <tr>\n",
       "      <th>136</th>\n",
       "      <td>3.145</td>\n",
       "      <td>4.467289</td>\n",
       "    </tr>\n",
       "    <tr>\n",
       "      <th>123</th>\n",
       "      <td>4.948</td>\n",
       "      <td>5.686301</td>\n",
       "    </tr>\n",
       "    <tr>\n",
       "      <th>92</th>\n",
       "      <td>5.972</td>\n",
       "      <td>5.055971</td>\n",
       "    </tr>\n",
       "    <tr>\n",
       "      <th>106</th>\n",
       "      <td>3.415</td>\n",
       "      <td>5.343517</td>\n",
       "    </tr>\n",
       "    <tr>\n",
       "      <th>77</th>\n",
       "      <td>5.198</td>\n",
       "      <td>6.650320</td>\n",
       "    </tr>\n",
       "  </tbody>\n",
       "</table>\n",
       "</div>"
      ],
      "text/plain": [
       "     Actual value  Predicted value\n",
       "136         3.145         4.467289\n",
       "123         4.948         5.686301\n",
       "92          5.972         5.055971\n",
       "106         3.415         5.343517\n",
       "77          5.198         6.650320"
      ]
     },
     "execution_count": 8,
     "metadata": {},
     "output_type": "execute_result"
    }
   ],
   "source": [
    "#Actual value and the predicted value\n",
    "mlr_diff = pd.DataFrame({'Actual value': y_test, 'Predicted value': y_pred_mlr})\n",
    "mlr_diff.head()"
   ]
  },
  {
   "cell_type": "code",
   "execution_count": 9,
   "id": "293d20c1",
   "metadata": {},
   "outputs": [
    {
     "name": "stdout",
     "output_type": "stream",
     "text": [
      "R squared: 59.95\n",
      "Mean Absolute Error: 0.592440629442398\n",
      "Mean Square Error: 0.5334936507188045\n",
      "Root Mean Square Error: 0.7304064969034739\n"
     ]
    }
   ],
   "source": [
    "#Model Evaluation\n",
    "from sklearn import metrics\n",
    "meanAbErr = metrics.mean_absolute_error(y_test, y_pred_mlr)\n",
    "meanSqErr = metrics.mean_squared_error(y_test, y_pred_mlr)\n",
    "rootMeanSqErr = np.sqrt(metrics.mean_squared_error(y_test, y_pred_mlr))\n",
    "print('R squared: {:.2f}'.format(mlr.score(X,y)*100))\n",
    "print('Mean Absolute Error:', meanAbErr)\n",
    "print('Mean Square Error:', meanSqErr)\n",
    "print('Root Mean Square Error:', rootMeanSqErr)"
   ]
  },
  {
   "cell_type": "code",
   "execution_count": null,
   "id": "c8e5f554",
   "metadata": {},
   "outputs": [],
   "source": []
  }
 ],
 "metadata": {
  "kernelspec": {
   "display_name": "Python 3 (ipykernel)",
   "language": "python",
   "name": "python3"
  },
  "language_info": {
   "codemirror_mode": {
    "name": "ipython",
    "version": 3
   },
   "file_extension": ".py",
   "mimetype": "text/x-python",
   "name": "python",
   "nbconvert_exporter": "python",
   "pygments_lexer": "ipython3",
   "version": "3.9.13"
  }
 },
 "nbformat": 4,
 "nbformat_minor": 5
}
