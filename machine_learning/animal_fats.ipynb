{
 "cells": [
  {
   "cell_type": "markdown",
   "id": "eb67637f",
   "metadata": {},
   "source": [
    "Linear Regression Animal_Fats vs. Happiness"
   ]
  },
  {
   "cell_type": "code",
   "execution_count": 4,
   "id": "d75af95c",
   "metadata": {},
   "outputs": [],
   "source": [
    "import pandas as pd\n",
    "from pathlib import Path\n",
    "import matplotlib.pyplot as plt\n",
    "from sklearn.linear_model import LinearRegression\n",
    "from sklearn.metrics import mean_squared_error, r2_score\n"
   ]
  },
  {
   "cell_type": "code",
   "execution_count": 5,
   "id": "24aa27b1",
   "metadata": {},
   "outputs": [
    {
     "data": {
      "text/html": [
       "<div>\n",
       "<style scoped>\n",
       "    .dataframe tbody tr th:only-of-type {\n",
       "        vertical-align: middle;\n",
       "    }\n",
       "\n",
       "    .dataframe tbody tr th {\n",
       "        vertical-align: top;\n",
       "    }\n",
       "\n",
       "    .dataframe thead th {\n",
       "        text-align: right;\n",
       "    }\n",
       "</style>\n",
       "<table border=\"1\" class=\"dataframe\">\n",
       "  <thead>\n",
       "    <tr style=\"text-align: right;\">\n",
       "      <th></th>\n",
       "      <th>country</th>\n",
       "      <th>happiness_score</th>\n",
       "      <th>Alcoholic_Beverages</th>\n",
       "      <th>Animal_Products</th>\n",
       "      <th>Animal_fats</th>\n",
       "      <th>Cereal_Excluding_Beer</th>\n",
       "      <th>Eggs</th>\n",
       "      <th>Fish_Seafood</th>\n",
       "      <th>Fruits_Excluding_Wine</th>\n",
       "      <th>Meat</th>\n",
       "      <th>...</th>\n",
       "      <th>Spices</th>\n",
       "      <th>Starchy_Roots</th>\n",
       "      <th>Stimulants</th>\n",
       "      <th>Sugar_Crops</th>\n",
       "      <th>Treenuts</th>\n",
       "      <th>Vegetal_Products</th>\n",
       "      <th>Vegetable_Oils</th>\n",
       "      <th>Vegtables</th>\n",
       "      <th>Obesity</th>\n",
       "      <th>Population</th>\n",
       "    </tr>\n",
       "  </thead>\n",
       "  <tbody>\n",
       "    <tr>\n",
       "      <th>0</th>\n",
       "      <td>Afghanistan</td>\n",
       "      <td>2.523</td>\n",
       "      <td>0.0000</td>\n",
       "      <td>4.7774</td>\n",
       "      <td>0.8504</td>\n",
       "      <td>37.1186</td>\n",
       "      <td>0.1501</td>\n",
       "      <td>0.0000</td>\n",
       "      <td>1.4757</td>\n",
       "      <td>1.2006</td>\n",
       "      <td>...</td>\n",
       "      <td>0.1001</td>\n",
       "      <td>0.3252</td>\n",
       "      <td>0.0750</td>\n",
       "      <td>0.0</td>\n",
       "      <td>0.1251</td>\n",
       "      <td>45.2476</td>\n",
       "      <td>2.3012</td>\n",
       "      <td>0.7504</td>\n",
       "      <td>4.5</td>\n",
       "      <td>38928000.0</td>\n",
       "    </tr>\n",
       "    <tr>\n",
       "      <th>1</th>\n",
       "      <td>Albania</td>\n",
       "      <td>5.117</td>\n",
       "      <td>0.9120</td>\n",
       "      <td>16.0930</td>\n",
       "      <td>1.0591</td>\n",
       "      <td>16.2107</td>\n",
       "      <td>0.8091</td>\n",
       "      <td>0.1471</td>\n",
       "      <td>3.8982</td>\n",
       "      <td>3.8688</td>\n",
       "      <td>...</td>\n",
       "      <td>0.0000</td>\n",
       "      <td>1.2651</td>\n",
       "      <td>0.2501</td>\n",
       "      <td>0.0</td>\n",
       "      <td>0.3972</td>\n",
       "      <td>33.9070</td>\n",
       "      <td>2.8244</td>\n",
       "      <td>2.7508</td>\n",
       "      <td>22.3</td>\n",
       "      <td>2838000.0</td>\n",
       "    </tr>\n",
       "    <tr>\n",
       "      <th>2</th>\n",
       "      <td>Algeria</td>\n",
       "      <td>4.887</td>\n",
       "      <td>0.0896</td>\n",
       "      <td>6.0326</td>\n",
       "      <td>0.1941</td>\n",
       "      <td>25.0112</td>\n",
       "      <td>0.4181</td>\n",
       "      <td>0.1195</td>\n",
       "      <td>3.1805</td>\n",
       "      <td>1.2543</td>\n",
       "      <td>...</td>\n",
       "      <td>0.1195</td>\n",
       "      <td>1.9262</td>\n",
       "      <td>0.1493</td>\n",
       "      <td>0.0</td>\n",
       "      <td>0.2240</td>\n",
       "      <td>43.9749</td>\n",
       "      <td>5.7638</td>\n",
       "      <td>2.0457</td>\n",
       "      <td>26.6</td>\n",
       "      <td>44357000.0</td>\n",
       "    </tr>\n",
       "    <tr>\n",
       "      <th>3</th>\n",
       "      <td>Argentina</td>\n",
       "      <td>5.929</td>\n",
       "      <td>1.4354</td>\n",
       "      <td>14.9869</td>\n",
       "      <td>1.0650</td>\n",
       "      <td>16.7927</td>\n",
       "      <td>0.8643</td>\n",
       "      <td>0.2006</td>\n",
       "      <td>1.4663</td>\n",
       "      <td>9.4459</td>\n",
       "      <td>...</td>\n",
       "      <td>0.0309</td>\n",
       "      <td>1.4045</td>\n",
       "      <td>0.2315</td>\n",
       "      <td>0.0</td>\n",
       "      <td>0.0463</td>\n",
       "      <td>34.9900</td>\n",
       "      <td>5.5410</td>\n",
       "      <td>0.8643</td>\n",
       "      <td>28.5</td>\n",
       "      <td>45377000.0</td>\n",
       "    </tr>\n",
       "    <tr>\n",
       "      <th>4</th>\n",
       "      <td>Armenia</td>\n",
       "      <td>5.283</td>\n",
       "      <td>0.2274</td>\n",
       "      <td>12.8330</td>\n",
       "      <td>1.7706</td>\n",
       "      <td>19.2658</td>\n",
       "      <td>0.7310</td>\n",
       "      <td>0.1787</td>\n",
       "      <td>2.5341</td>\n",
       "      <td>4.2235</td>\n",
       "      <td>...</td>\n",
       "      <td>0.0162</td>\n",
       "      <td>1.2508</td>\n",
       "      <td>0.6985</td>\n",
       "      <td>0.0</td>\n",
       "      <td>0.3086</td>\n",
       "      <td>37.1670</td>\n",
       "      <td>3.5737</td>\n",
       "      <td>3.2164</td>\n",
       "      <td>20.9</td>\n",
       "      <td>2956000.0</td>\n",
       "    </tr>\n",
       "  </tbody>\n",
       "</table>\n",
       "<p>5 rows × 25 columns</p>\n",
       "</div>"
      ],
      "text/plain": [
       "       country  happiness_score  Alcoholic_Beverages  Animal_Products  \\\n",
       "0  Afghanistan            2.523               0.0000           4.7774   \n",
       "1      Albania            5.117               0.9120          16.0930   \n",
       "2      Algeria            4.887               0.0896           6.0326   \n",
       "3    Argentina            5.929               1.4354          14.9869   \n",
       "4      Armenia            5.283               0.2274          12.8330   \n",
       "\n",
       "   Animal_fats  Cereal_Excluding_Beer    Eggs  Fish_Seafood  \\\n",
       "0       0.8504                37.1186  0.1501        0.0000   \n",
       "1       1.0591                16.2107  0.8091        0.1471   \n",
       "2       0.1941                25.0112  0.4181        0.1195   \n",
       "3       1.0650                16.7927  0.8643        0.2006   \n",
       "4       1.7706                19.2658  0.7310        0.1787   \n",
       "\n",
       "   Fruits_Excluding_Wine    Meat  ...  Spices  Starchy_Roots  Stimulants  \\\n",
       "0                 1.4757  1.2006  ...  0.1001         0.3252      0.0750   \n",
       "1                 3.8982  3.8688  ...  0.0000         1.2651      0.2501   \n",
       "2                 3.1805  1.2543  ...  0.1195         1.9262      0.1493   \n",
       "3                 1.4663  9.4459  ...  0.0309         1.4045      0.2315   \n",
       "4                 2.5341  4.2235  ...  0.0162         1.2508      0.6985   \n",
       "\n",
       "   Sugar_Crops  Treenuts  Vegetal_Products  Vegetable_Oils  Vegtables  \\\n",
       "0          0.0    0.1251           45.2476          2.3012     0.7504   \n",
       "1          0.0    0.3972           33.9070          2.8244     2.7508   \n",
       "2          0.0    0.2240           43.9749          5.7638     2.0457   \n",
       "3          0.0    0.0463           34.9900          5.5410     0.8643   \n",
       "4          0.0    0.3086           37.1670          3.5737     3.2164   \n",
       "\n",
       "   Obesity  Population  \n",
       "0      4.5  38928000.0  \n",
       "1     22.3   2838000.0  \n",
       "2     26.6  44357000.0  \n",
       "3     28.5  45377000.0  \n",
       "4     20.9   2956000.0  \n",
       "\n",
       "[5 rows x 25 columns]"
      ]
     },
     "execution_count": 5,
     "metadata": {},
     "output_type": "execute_result"
    }
   ],
   "source": [
    "df = pd.read_csv(Path('happiness_kcal_by_country.csv'))\n",
    "df.head()"
   ]
  },
  {
   "cell_type": "code",
   "execution_count": 6,
   "id": "da55dfb4",
   "metadata": {},
   "outputs": [
    {
     "data": {
      "image/png": "[encoded data removed]",
      "text/plain": [
       "<Figure size 640x480 with 1 Axes>"
      ]
     },
     "metadata": {},
     "output_type": "display_data"
    }
   ],
   "source": [
    "plt.scatter(df.happiness_score, df.Animal_fats)\n",
    "plt.xlabel('Animal_fats')\n",
    "plt.ylabel('happiness_score')\n",
    "plt.show()"
   ]
  },
  {
   "cell_type": "code",
   "execution_count": 7,
   "id": "f790ed9c",
   "metadata": {},
   "outputs": [],
   "source": [
    "X = df.Animal_fats.values.reshape(-1, 1)\n",
    "y = df.happiness_score"
   ]
  },
  {
   "cell_type": "code",
   "execution_count": 8,
   "id": "8342094a",
   "metadata": {},
   "outputs": [],
   "source": [
    "model = LinearRegression()"
   ]
  },
  {
   "cell_type": "code",
   "execution_count": 9,
   "id": "7a883995",
   "metadata": {},
   "outputs": [
    {
     "data": {
      "text/plain": [
       "LinearRegression()"
      ]
     },
     "execution_count": 9,
     "metadata": {},
     "output_type": "execute_result"
    }
   ],
   "source": [
    "model.fit(X, y)"
   ]
  },
  {
   "cell_type": "code",
   "execution_count": 10,
   "id": "c9e4c748",
   "metadata": {},
   "outputs": [
    {
     "name": "stdout",
     "output_type": "stream",
     "text": [
      "(137,)\n"
     ]
    }
   ],
   "source": [
    "y_pred = model.predict(X)\n",
    "print(y_pred.shape)"
   ]
  },
  {
   "cell_type": "code",
   "execution_count": 11,
   "id": "279d84c8",
   "metadata": {},
   "outputs": [
    {
     "data": {
      "image/png": "[encoded data removed]",
      "text/plain": [
       "<Figure size 640x480 with 1 Axes>"
      ]
     },
     "metadata": {},
     "output_type": "display_data"
    }
   ],
   "source": [
    "plt.scatter(X, y)\n",
    "plt.plot(X, y_pred, color='red')\n",
    "plt.show()"
   ]
  },
  {
   "cell_type": "code",
   "execution_count": 12,
   "id": "5c4bc7bc",
   "metadata": {},
   "outputs": [
    {
     "name": "stdout",
     "output_type": "stream",
     "text": [
      "Coefficients: \n",
      " [0.45952568]\n",
      "Mean squared error: 0.76\n",
      "Coefficient of determination: 0.34\n"
     ]
    }
   ],
   "source": [
    "# The coefficients\n",
    "print(\"Coefficients: \\n\", model.coef_)\n",
    "# The mean squared error\n",
    "print(\"Mean squared error: %.2f\" % mean_squared_error(y, y_pred))\n",
    "# The coefficient of determination: 1 is perfect prediction\n",
    "print(\"Coefficient of determination: %.2f\" % r2_score(y, y_pred))"
   ]
  },
  {
   "cell_type": "code",
   "execution_count": null,
   "id": "0490f3e0",
   "metadata": {},
   "outputs": [],
   "source": []
  }
 ],
 "metadata": {
  "kernelspec": {
   "display_name": "mlenv",
   "language": "python",
   "name": "mlenv"
  },
  "language_info": {
   "codemirror_mode": {
    "name": "ipython",
    "version": 3
   },
   "file_extension": ".py",
   "mimetype": "text/x-python",
   "name": "python",
   "nbconvert_exporter": "python",
   "pygments_lexer": "ipython3",
   "version": "3.7.13"
  }
 },
 "nbformat": 4,
 "nbformat_minor": 5
}
